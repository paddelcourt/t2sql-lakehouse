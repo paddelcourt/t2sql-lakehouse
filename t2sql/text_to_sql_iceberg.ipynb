{
 "cells": [
  {
   "cell_type": "code",
   "execution_count": 1,
   "id": "bf8765c6",
   "metadata": {},
   "outputs": [],
   "source": [
    "import duckdb"
   ]
  },
  {
   "cell_type": "code",
   "execution_count": 2,
   "id": "6c532e9f",
   "metadata": {},
   "outputs": [],
   "source": [
    "duckdb.sql(\"INSTALL httpfs; LOAD httpfs;\")\n",
    "duckdb.sql(\"INSTALL iceberg; LOAD iceberg;\")"
   ]
  },
  {
   "cell_type": "code",
   "execution_count": 3,
   "id": "098eb13a",
   "metadata": {},
   "outputs": [],
   "source": [
    "duckdb.sql(\"SET s3_endpoint='127.0.0.1:9000';\")\n",
    "duckdb.sql(\"SET s3_access_key_id='minio';\")\n",
    "duckdb.sql(\"SET s3_secret_access_key='minio123';\")\n",
    "duckdb.sql(\"SET s3_region='us-east-1';\")\n",
    "duckdb.sql(\"SET s3_url_style='path';\")\n",
    "duckdb.sql(\"SET s3_use_ssl=false;\")"
   ]
  },
  {
   "cell_type": "code",
   "execution_count": 4,
   "id": "60c7de27",
   "metadata": {},
   "outputs": [],
   "source": [
    "result = duckdb.sql(\"\"\"\n",
    "SELECT * FROM iceberg_scan('s3://warehouse/goodwiki/ingestion_etl')\n",
    "\"\"\").df()"
   ]
  },
  {
   "cell_type": "code",
   "execution_count": 5,
   "id": "50b33a19",
   "metadata": {},
   "outputs": [
    {
     "data": {
      "text/html": [
       "<div>\n",
       "<style scoped>\n",
       "    .dataframe tbody tr th:only-of-type {\n",
       "        vertical-align: middle;\n",
       "    }\n",
       "\n",
       "    .dataframe tbody tr th {\n",
       "        vertical-align: top;\n",
       "    }\n",
       "\n",
       "    .dataframe thead th {\n",
       "        text-align: right;\n",
       "    }\n",
       "</style>\n",
       "<table border=\"1\" class=\"dataframe\">\n",
       "  <thead>\n",
       "    <tr style=\"text-align: right;\">\n",
       "      <th></th>\n",
       "      <th>pageid</th>\n",
       "      <th>title</th>\n",
       "      <th>revid</th>\n",
       "      <th>description</th>\n",
       "      <th>categories</th>\n",
       "      <th>markdown</th>\n",
       "    </tr>\n",
       "  </thead>\n",
       "  <tbody>\n",
       "    <tr>\n",
       "      <th>0</th>\n",
       "      <td>57185536</td>\n",
       "      <td>Georgia Hopley</td>\n",
       "      <td>1163683705</td>\n",
       "      <td>American journalist and temperance advocate</td>\n",
       "      <td>[1858 births, 1944 deaths, 19th-century Americ...</td>\n",
       "      <td>Georgianna Eliza Hopley (1858–1944) was an Ame...</td>\n",
       "    </tr>\n",
       "    <tr>\n",
       "      <th>1</th>\n",
       "      <td>15394015</td>\n",
       "      <td>Willis Ward</td>\n",
       "      <td>1170257280</td>\n",
       "      <td>Track and field athlete and American football ...</td>\n",
       "      <td>[1912 births, 1983 deaths, 20th-century Africa...</td>\n",
       "      <td>Willis Franklin Ward (December 28, 1912 – Dece...</td>\n",
       "    </tr>\n",
       "    <tr>\n",
       "      <th>2</th>\n",
       "      <td>62958021</td>\n",
       "      <td>Instant Replay Game</td>\n",
       "      <td>1166130448</td>\n",
       "      <td>Notable American football game</td>\n",
       "      <td>[1989 National Football League season, 1989 in...</td>\n",
       "      <td>The Instant Replay Game, also known as the Ast...</td>\n",
       "    </tr>\n",
       "    <tr>\n",
       "      <th>3</th>\n",
       "      <td>17546</td>\n",
       "      <td>Louvre</td>\n",
       "      <td>1172724876</td>\n",
       "      <td>Art museum in Paris, France</td>\n",
       "      <td>[1793 establishments in France, Archaeological...</td>\n",
       "      <td>The Louvre (English: /ˈluːv(rə)/ ), or the Lou...</td>\n",
       "    </tr>\n",
       "    <tr>\n",
       "      <th>4</th>\n",
       "      <td>13280513</td>\n",
       "      <td>Launch Party</td>\n",
       "      <td>1150875056</td>\n",
       "      <td>None</td>\n",
       "      <td>[2007 American television episodes, The Office...</td>\n",
       "      <td>\"Launch Party\" is the fifth and sixth episode ...</td>\n",
       "    </tr>\n",
       "    <tr>\n",
       "      <th>...</th>\n",
       "      <td>...</td>\n",
       "      <td>...</td>\n",
       "      <td>...</td>\n",
       "      <td>...</td>\n",
       "      <td>...</td>\n",
       "      <td>...</td>\n",
       "    </tr>\n",
       "    <tr>\n",
       "      <th>44749</th>\n",
       "      <td>65986818</td>\n",
       "      <td>Let Us Continue</td>\n",
       "      <td>1148889149</td>\n",
       "      <td>1963 speech by U.S. President Lyndon B. Johnson</td>\n",
       "      <td>[1963 in American politics, 1963 in Washington...</td>\n",
       "      <td>Let Us Continue was a speech that 36th Preside...</td>\n",
       "    </tr>\n",
       "    <tr>\n",
       "      <th>44750</th>\n",
       "      <td>23240578</td>\n",
       "      <td>Odin-class coastal defense ship</td>\n",
       "      <td>1161437920</td>\n",
       "      <td>Coastal defense ship class of the German Imper...</td>\n",
       "      <td>[Coastal defense ship classes, Odin-class coas...</td>\n",
       "      <td>The Odin class was a pair of coastal defense s...</td>\n",
       "    </tr>\n",
       "    <tr>\n",
       "      <th>44751</th>\n",
       "      <td>209236</td>\n",
       "      <td>Pest (organism)</td>\n",
       "      <td>1173463954</td>\n",
       "      <td>Organism harmful to humans/our concerns</td>\n",
       "      <td>[Insects in culture, Pests (organism)]</td>\n",
       "      <td>A pest is any organism harmful to humans or hu...</td>\n",
       "    </tr>\n",
       "    <tr>\n",
       "      <th>44752</th>\n",
       "      <td>62440986</td>\n",
       "      <td>44 Union Square</td>\n",
       "      <td>1170828953</td>\n",
       "      <td>Office building in Manhattan, New York</td>\n",
       "      <td>[1929 establishments in New York City, New Yor...</td>\n",
       "      <td>44 Union Square, also known as 100 East 17th S...</td>\n",
       "    </tr>\n",
       "    <tr>\n",
       "      <th>44753</th>\n",
       "      <td>47872332</td>\n",
       "      <td>The Pioneer Mother Memorial</td>\n",
       "      <td>1162413149</td>\n",
       "      <td>Bronze sculpture by Avard Fairbanks in Vancouv...</td>\n",
       "      <td>[1928 establishments in Washington (state), 19...</td>\n",
       "      <td>The Pioneer Mother Memorial, also known as Pio...</td>\n",
       "    </tr>\n",
       "  </tbody>\n",
       "</table>\n",
       "<p>44754 rows × 6 columns</p>\n",
       "</div>"
      ],
      "text/plain": [
       "         pageid                            title       revid  \\\n",
       "0      57185536                   Georgia Hopley  1163683705   \n",
       "1      15394015                      Willis Ward  1170257280   \n",
       "2      62958021              Instant Replay Game  1166130448   \n",
       "3         17546                           Louvre  1172724876   \n",
       "4      13280513                     Launch Party  1150875056   \n",
       "...         ...                              ...         ...   \n",
       "44749  65986818                  Let Us Continue  1148889149   \n",
       "44750  23240578  Odin-class coastal defense ship  1161437920   \n",
       "44751    209236                  Pest (organism)  1173463954   \n",
       "44752  62440986                  44 Union Square  1170828953   \n",
       "44753  47872332      The Pioneer Mother Memorial  1162413149   \n",
       "\n",
       "                                             description  \\\n",
       "0            American journalist and temperance advocate   \n",
       "1      Track and field athlete and American football ...   \n",
       "2                         Notable American football game   \n",
       "3                            Art museum in Paris, France   \n",
       "4                                                   None   \n",
       "...                                                  ...   \n",
       "44749    1963 speech by U.S. President Lyndon B. Johnson   \n",
       "44750  Coastal defense ship class of the German Imper...   \n",
       "44751            Organism harmful to humans/our concerns   \n",
       "44752             Office building in Manhattan, New York   \n",
       "44753  Bronze sculpture by Avard Fairbanks in Vancouv...   \n",
       "\n",
       "                                              categories  \\\n",
       "0      [1858 births, 1944 deaths, 19th-century Americ...   \n",
       "1      [1912 births, 1983 deaths, 20th-century Africa...   \n",
       "2      [1989 National Football League season, 1989 in...   \n",
       "3      [1793 establishments in France, Archaeological...   \n",
       "4      [2007 American television episodes, The Office...   \n",
       "...                                                  ...   \n",
       "44749  [1963 in American politics, 1963 in Washington...   \n",
       "44750  [Coastal defense ship classes, Odin-class coas...   \n",
       "44751             [Insects in culture, Pests (organism)]   \n",
       "44752  [1929 establishments in New York City, New Yor...   \n",
       "44753  [1928 establishments in Washington (state), 19...   \n",
       "\n",
       "                                                markdown  \n",
       "0      Georgianna Eliza Hopley (1858–1944) was an Ame...  \n",
       "1      Willis Franklin Ward (December 28, 1912 – Dece...  \n",
       "2      The Instant Replay Game, also known as the Ast...  \n",
       "3      The Louvre (English: /ˈluːv(rə)/ ), or the Lou...  \n",
       "4      \"Launch Party\" is the fifth and sixth episode ...  \n",
       "...                                                  ...  \n",
       "44749  Let Us Continue was a speech that 36th Preside...  \n",
       "44750  The Odin class was a pair of coastal defense s...  \n",
       "44751  A pest is any organism harmful to humans or hu...  \n",
       "44752  44 Union Square, also known as 100 East 17th S...  \n",
       "44753  The Pioneer Mother Memorial, also known as Pio...  \n",
       "\n",
       "[44754 rows x 6 columns]"
      ]
     },
     "execution_count": 5,
     "metadata": {},
     "output_type": "execute_result"
    }
   ],
   "source": [
    "result"
   ]
  },
  {
   "cell_type": "code",
   "execution_count": 6,
   "id": "f0c4b1ed",
   "metadata": {},
   "outputs": [],
   "source": [
    "#creating sqlalchemy connection for m-schema\n",
    "from sqlalchemy import create_engine\n",
    "db_engine = create_engine(f\"duckdb:///:memory\")"
   ]
  },
  {
   "cell_type": "code",
   "execution_count": null,
   "id": "257da529",
   "metadata": {},
   "outputs": [
    {
     "name": "stderr",
     "output_type": "stream",
     "text": [
      "/Users/tommac/Documents/personal_project/t2sql-lakehouse/.venv/lib/python3.11/site-packages/duckdb_engine/__init__.py:184: DuckDBEngineWarning: duckdb-engine doesn't yet support reflection on indices\n",
      "  warnings.warn(\n"
     ]
    },
    {
     "data": {
      "text/plain": [
       "-1"
      ]
     },
     "execution_count": 27,
     "metadata": {},
     "output_type": "execute_result"
    }
   ],
   "source": [
    "#move the dataframe into duckdb warehouse for mschema\n",
    "result.to_sql('goodwiki', db_engine, if_exists='replace', index=False)"
   ]
  },
  {
   "cell_type": "code",
   "execution_count": null,
   "id": "e3eea2f0",
   "metadata": {},
   "outputs": [
    {
     "name": "stderr",
     "output_type": "stream",
     "text": [
      "/Users/tommac/Documents/personal_project/t2sql-lakehouse/.venv/lib/python3.11/site-packages/duckdb_engine/__init__.py:184: DuckDBEngineWarning: duckdb-engine doesn't yet support reflection on indices\n",
      "  warnings.warn(\n"
     ]
    },
    {
     "name": "stdout",
     "output_type": "stream",
     "text": [
      "【DB_ID】 :memory\n",
      "【Schema】\n",
      "# Table: \":memory\".main.goodwiki\n",
      "[\n",
      "(pageid:BIGINT, Examples: [7750611, 32300234, 656951]),\n",
      "(title:VARCHAR, Examples: [Instant Replay Game]),\n",
      "(revid:BIGINT, Examples: [1171051001, 1172990158, 1149830414]),\n",
      "(description:VARCHAR, Examples: [North Indian cyclone in 2001]),\n",
      "(categories:VARCHAR),\n",
      "(markdown:VARCHAR)\n",
      "]\n"
     ]
    }
   ],
   "source": [
    "#have schema engine conenct to duckdb memory to generate mschema\n",
    "from schema_engine import SchemaEngine\n",
    "\n",
    "db_name = \":memory\"\n",
    "\n",
    "schema_engine = SchemaEngine(engine=db_engine, db_name=db_name)\n",
    "mschema = schema_engine.mschema\n",
    "mschema_str = mschema.to_mschema()\n",
    "print(mschema_str)\n",
    "mschema.save(f'./{db_name}.json')"
   ]
  },
  {
   "cell_type": "code",
   "execution_count": 57,
   "id": "1a8c97bf",
   "metadata": {},
   "outputs": [],
   "source": [
    "dialect = db_engine.dialect.name\n",
    "question = ''\n",
    "evidence = ''\n",
    "prompt = \"\"\"You are now a {dialect} data analyst, and you are given a database schema as follows:\n",
    "\n",
    "【Schema】\n",
    "{db_schema}\n",
    "\n",
    "【Question】\n",
    "{question}\n",
    "\n",
    "【Evidence】\n",
    "{evidence}\n",
    "\n",
    "[Question]\n",
    "Can you get me the description of the louvre?\n",
    "\n",
    "Please read and understand the database schema carefully, and generate an executable SQL based on the user's question and evidence. The generated SQL is protected by ```sql and ```.\n",
    "\"\"\".format(dialect=dialect, question=question, db_schema=mschema_str, evidence=evidence)\n"
   ]
  },
  {
   "cell_type": "code",
   "execution_count": 58,
   "id": "ffb978e6",
   "metadata": {},
   "outputs": [
    {
     "name": "stderr",
     "output_type": "stream",
     "text": [
      "Loading checkpoint shards: 100%|██████████| 4/4 [00:12<00:00,  3.17s/it]\n",
      "Some parameters are on the meta device because they were offloaded to the disk.\n"
     ]
    }
   ],
   "source": [
    "import torch\n",
    "from transformers import AutoModelForCausalLM, AutoTokenizer\n",
    "\n",
    "model_name = \"XGenerationLab/XiYanSQL-QwenCoder-7B-2504\"\n",
    "model = AutoModelForCausalLM.from_pretrained(\n",
    "    model_name,\n",
    "    torch_dtype=torch.bfloat16,\n",
    "    device_map=\"auto\"\n",
    ")\n",
    "\n",
    "tokenizer = AutoTokenizer.from_pretrained(model_name)\n",
    "\n",
    "## dialects -> ['SQLite', 'PostgreSQL', 'MySQL']\n",
    "message = [{'role': 'user', 'content': prompt}]\n",
    "\n",
    "text = tokenizer.apply_chat_template(\n",
    "    message,\n",
    "    tokenize=False,\n",
    "    add_generation_prompt=True\n",
    ")\n",
    "model_inputs = tokenizer([text], return_tensors=\"pt\").to(model.device)\n",
    "\n",
    "generated_ids = model.generate(\n",
    "    **model_inputs,\n",
    "    pad_token_id=tokenizer.pad_token_id,\n",
    "    eos_token_id=tokenizer.eos_token_id,\n",
    "    max_new_tokens=1024,\n",
    "    temperature=0.1,\n",
    "    top_p=0.8,\n",
    "    do_sample=True,\n",
    ")\n",
    "generated_ids = [\n",
    "    output_ids[len(input_ids):] for input_ids, output_ids in zip(model_inputs.input_ids, generated_ids)\n",
    "]\n",
    "response = tokenizer.batch_decode(generated_ids, skip_special_tokens=True)[0]\n"
   ]
  },
  {
   "cell_type": "code",
   "execution_count": 61,
   "id": "d1213dd0",
   "metadata": {},
   "outputs": [
    {
     "data": {
      "text/plain": [
       "\"SELECT description FROM goodwiki WHERE title = 'Louvre';\""
      ]
     },
     "execution_count": 61,
     "metadata": {},
     "output_type": "execute_result"
    }
   ],
   "source": [
    "response"
   ]
  },
  {
   "cell_type": "code",
   "execution_count": 62,
   "id": "0f9624e4",
   "metadata": {},
   "outputs": [
    {
     "name": "stdout",
     "output_type": "stream",
     "text": [
      "('Art museum in Paris, France',)\n"
     ]
    }
   ],
   "source": [
    "from sqlalchemy import text\n",
    "with db_engine.connect() as conn:\n",
    "    result = conn.execute(text(response))\n",
    "    for row in result:\n",
    "        print(row)"
   ]
  }
 ],
 "metadata": {
  "kernelspec": {
   "display_name": ".venv",
   "language": "python",
   "name": "python3"
  },
  "language_info": {
   "codemirror_mode": {
    "name": "ipython",
    "version": 3
   },
   "file_extension": ".py",
   "mimetype": "text/x-python",
   "name": "python",
   "nbconvert_exporter": "python",
   "pygments_lexer": "ipython3",
   "version": "3.11.10"
  }
 },
 "nbformat": 4,
 "nbformat_minor": 5
}
